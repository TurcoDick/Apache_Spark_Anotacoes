{
 "cells": [
  {
   "cell_type": "code",
   "execution_count": 1,
   "metadata": {
    "collapsed": true
   },
   "outputs": [],
   "source": [
    "# Operações em RDDs que devolvem um novo RDD\n",
    "# São computadas de forma preguiçosa (lazy)\n",
    "# Normalmente, executam uma função (anínima ao nó) sobre cada um dos elementos de RDD de origem"
   ]
  },
  {
   "cell_type": "code",
   "execution_count": 2,
   "metadata": {
    "collapsed": true
   },
   "outputs": [],
   "source": [
    "import pandas as pd"
   ]
  },
  {
   "cell_type": "code",
   "execution_count": 4,
   "metadata": {},
   "outputs": [],
   "source": [
    "# primeiro transforma o objeto csv em RDD\n",
    "arquivo = sc.textFile('/home/alison/Projetos/Data Science/DataSets/TA_PRECOS_MEDICAMENTOS.csv', use_unicode=True)"
   ]
  },
  {
   "cell_type": "code",
   "execution_count": 9,
   "metadata": {},
   "outputs": [],
   "source": [
    "busca_palavra_NU_REGISTRO = arquivo.filter(lambda l: \"NU_REGISTRO\" in l)\n",
    "busca_palavra_LIBRA_COMERCIO_DE_PRODUTOS_FARMACEUTICOS_LTDA = arquivo.filter(lambda l: \"LIBRA COMERCIO DE PRODUTOS FARMACEUTICOS LTDA\" in l)"
   ]
  },
  {
   "cell_type": "code",
   "execution_count": 10,
   "metadata": {},
   "outputs": [],
   "source": [
    "interseccao_das_duas_palavras = busca_palavra_NU_REGISTRO.intersection(busca_palavra_LIBRA_COMERCIO_DE_PRODUTOS_FARMACEUTICOS_LTDA)"
   ]
  },
  {
   "cell_type": "code",
   "execution_count": 13,
   "metadata": {},
   "outputs": [
    {
     "data": {
      "text/plain": [
       "[]"
      ]
     },
     "execution_count": 13,
     "metadata": {},
     "output_type": "execute_result"
    }
   ],
   "source": [
    "# Provavélmente não existe uma correlação entre essas duas palavras\n",
    "interseccao_das_duas_palavras.collect()"
   ]
  },
  {
   "cell_type": "code",
   "execution_count": 15,
   "metadata": {},
   "outputs": [
    {
     "data": {
      "text/plain": [
       "1"
      ]
     },
     "execution_count": 15,
     "metadata": {},
     "output_type": "execute_result"
    }
   ],
   "source": [
    "# quantas vezes a palavra NU_REGISTRO aparece em todo texto\n",
    "busca_palavra_NU_REGISTRO.count()"
   ]
  },
  {
   "cell_type": "code",
   "execution_count": 23,
   "metadata": {},
   "outputs": [
    {
     "name": "stdout",
     "output_type": "stream",
     "text": [
      "55\n"
     ]
    }
   ],
   "source": [
    "# quantas vezes palavra LIBRA COMERCIO DE PRODUTOS FARMACEUTICOS LTDA\n",
    "quant = busca_palavra_LIBRA_COMERCIO_DE_PRODUTOS_FARMACEUTICOS_LTDA.count()\n",
    "print(quant)"
   ]
  },
  {
   "cell_type": "code",
   "execution_count": 17,
   "metadata": {},
   "outputs": [
    {
     "data": {
      "text/plain": [
       "0"
      ]
     },
     "execution_count": 17,
     "metadata": {},
     "output_type": "execute_result"
    }
   ],
   "source": [
    "# quantas veses as duas palavras acima parecem juntas\n",
    "interseccao_das_duas_palavras.count()"
   ]
  },
  {
   "cell_type": "code",
   "execution_count": 25,
   "metadata": {},
   "outputs": [
    {
     "name": "stdout",
     "output_type": "stream",
     "text": [
      "\n",
      "\n",
      "Linhas que contém o nome LIBRA COMERCIO DE PRODUTOS FARMACEUTICOS LTDA são = 55\n",
      "\n",
      "\n",
      "\n",
      "\"04038750000103\"|\"LIBRA COMERCIO DE PRODUTOS FARMACEUTICOS LTDA\"|\"1206900190024\"|\"523802001158415\"|\"7730711010557\"|\"DACARBAZINA\"|\"100 MG P� LIOFILIZADO INJ CX C/ 1 FR/AMP X 10 ML\"|\"99999-99-9\"|\"NC/NI\"|\"4\"|\"I\"|\"N\"|\"N\"|\"N\"|0|35\n",
      "\"04038750000103\"|\"LIBRA COMERCIO DE PRODUTOS FARMACEUTICOS LTDA\"|\"SI/NC\"|\"523800701152413\"|\"SI/NC\"|\"CEFEMAX\"|\"1G PO LIOF INJ FA\"|\"99999-99-9\"|\"NC/NI\"|\"4\"|\"I\"|\"N\"|\"N\"|\"N\"|0|0\n",
      "\"04038750000103\"|\"LIBRA COMERCIO DE PRODUTOS FARMACEUTICOS LTDA\"|\"1206900360019\"|\"523801501157411\"|\"7730711012384\"|\"CLARITROMICINA\"|\"500 MG P� LIOFILIZADO INJ CX C/ 01 FR/AMP\"|\"99999-99-9\"|\"NC/NI\"|\"4\"|\"I\"|\"N\"|\"N\"|\"N\"|0|149\n",
      "\"04038750000103\"|\"LIBRA COMERCIO DE PRODUTOS FARMACEUTICOS LTDA\"|\"SI/NC\"|\"523803501154417\"|\"SI/NC\"|\"PIPERAZAM\"|\"1 FA - 4,5G\"|\"99999-99-9\"|\"NC/NI\"|\"4\"|\"II\"|\"N\"|\"N\"|\"N\"|0|0\n",
      "\"04038750000103\"|\"LIBRA COMERCIO DE PRODUTOS FARMACEUTICOS LTDA\"|\"1206900180029\"|\"523803401151416\"|\"7730711012452\"|\"PACLITAXEL\"|\"6 MG/ML SOL INJ CT FR/AMP X 50 ML\"|\"99999-99-9\"|\"NC/NI\"|\"1\"|\"I\"|\"N\"|\"N\"|\"N\"|0|4122\n",
      "\"04038750000103\"|\"LIBRA COMERCIO DE PRODUTOS FARMACEUTICOS LTDA\"|\"1206900080024\"|\"523802101152419\"|\"7730711011615\"|\"DOBUTAMINA\"|\"25 MG/ML SOL INJ CX C/ 1 AMP 20 ML\"|\"99999-99-9\"|\"NC/NI\"|\"4\"|\"I\"|\"N\"|\"N\"|\"N\"|0|25\n",
      "\"04038750000103\"|\"LIBRA COMERCIO DE PRODUTOS FARMACEUTICOS LTDA\"|\"1206900050017\"|\"523800601158411\"|\"7730711015460\"|\"CEFAZOLINA S�DICA\"|\"1 GR. P� INJ CX 01 FR/AMP\"|\"99999-99-9\"|\"NC/NI\"|\"4\"|\"I\"|\"N\"|\"N\"|\"N\"|0|7\n",
      "\"04038750000103\"|\"LIBRA COMERCIO DE PRODUTOS FARMACEUTICOS LTDA\"|\"1206900340018\"|\"523803101113411\"|\"7730711010151\"|\"MEGASTROL\"|\"160 MG COMP CX C/ 3 BL C/ 10 COMP\"|\"99999-99-9\"|\"NC/NI\"|\"4\"|\"I\"|\"N\"|\"N\"|\"N\"|0|3\n",
      "\"04038750000103\"|\"LIBRA COMERCIO DE PRODUTOS FARMACEUTICOS LTDA\"|\"1206900240013\"|\"523802301151416\"|\"7730711011400\"|\"ESTREPTOQUINASE\"|\"1500000 UI P� LIOFILIZADO CT FR/AMP VD INC\"|\"99999-99-9\"|\"NC/NI\"|\"4\"|\"I\"|\"N\"|\"N\"|\"N\"|0|660\n",
      "\"04038750000103\"|\"LIBRA COMERCIO DE PRODUTOS FARMACEUTICOS LTDA\"|\"1206900230026\"|\"523800201151418\"|\"7730711011387\"|\"AMOXICILINA S�DICA + CLAVULANA\"|\"1000 MG + 200 MG P� INJ FR/AMP VD\"|\"99999-99-9\"|\"NC/NI\"|\"4\"|\"II\"|\"N\"|\"N\"|\"N\"|0|29\n"
     ]
    }
   ],
   "source": [
    "# mostrar todas as linhas que contem a palavra LIBRA COMERCIO DE PRODUTOS FARMACEUTICOS LTDA\n",
    "print(\"\\n\\nLinhas que contém o nome LIBRA COMERCIO DE PRODUTOS FARMACEUTICOS LTDA são = {0}\".format(quant))\n",
    "print(\"\\n\\n\")\n",
    "for l in busca_palavra_LIBRA_COMERCIO_DE_PRODUTOS_FARMACEUTICOS_LTDA.takeSample(False,10):\n",
    "    print(l)"
   ]
  },
  {
   "cell_type": "code",
   "execution_count": 22,
   "metadata": {},
   "outputs": [
    {
     "name": "stdout",
     "output_type": "stream",
     "text": [
      "\"04038750000103\"|\"LIBRA COMERCIO DE PRODUTOS FARMACEUTICOS LTDA\"|\"1206900210025\"|\"523803701153414\"|\"7730711010960\"|\"SULBACTAM S�DICO + AMPICILINA \"|\"500 MG + 1000 MG P� INJ CX C/ 1 FR/AMP 1,5 GR\"|\"99999-99-9\"|\"NC/NI\"|\"4\"|\"II\"|\"N\"|\"N\"|\"N\"|0|15\n",
      "\"04038750000103\"|\"LIBRA COMERCIO DE PRODUTOS FARMACEUTICOS LTDA\"|\"1206900060013\"|\"523801701156417\"|\"7730711010137\"|\"CLORIDRATO DE ONDANSETRONA DIH\"|\"8 MG/4 ML SOL INJ CX C/ 5 AMP DE 4 ML\"|\"99999-99-9\"|\"NC/NI\"|\"4\"|\"I\"|\"N\"|\"N\"|\"N\"|0|49\n",
      "\"04038750000103\"|\"LIBRA COMERCIO DE PRODUTOS FARMACEUTICOS LTDA\"|\"1206900070011\"|\"523800401159412\"|\"7730711010755\"|\"CARBOPLATINA\"|\"150 MG P� INJ CX C/ 1 FR/AMP\"|\"99999-99-9\"|\"NC/NI\"|\"1\"|\"I\"|\"N\"|\"N\"|\"N\"|0|311\n",
      "\"04038750000103\"|\"LIBRA COMERCIO DE PRODUTOS FARMACEUTICOS LTDA\"|\"1206900220012\"|\"523803801158418\"|\"7730711011226\"|\"TEICOPLANINA\"|\"200 MG P� LIOFILIZADO SOL INJ CX C/ 1 FR/AMP X 3 M\"|\"99999-99-9\"|\"NC/NI\"|\"1\"|\"I\"|\"N\"|\"N\"|\"N\"|0|148\n",
      "\"04038750000103\"|\"LIBRA COMERCIO DE PRODUTOS FARMACEUTICOS LTDA\"|\"1206900160028\"|\"523800302150417\"|\"7730711010830\"|\"BESILATO DE ATRAC�RIO\"|\"10 MG/ML SOL INJ CX C/ 5 AMP C/ 5 ML\"|\"99999-99-9\"|\"NC/NI\"|\"1\"|\"I\"|\"N\"|\"N\"|\"N\"|0|21\n",
      "\"04038750000103\"|\"LIBRA COMERCIO DE PRODUTOS FARMACEUTICOS LTDA\"|\"1206900310021\"|\"523800802153415\"|\"7730711012162\"|\"CEFEPIMA\"|\"2 GR P� LIOFILIZADO INJ CT FR/AMP VD INC\"|\"99999-99-9\"|\"NC/NI\"|\"4\"|\"I\"|\"N\"|\"N\"|\"N\"|0|70\n",
      "\"04038750000103\"|\"LIBRA COMERCIO DE PRODUTOS FARMACEUTICOS LTDA\"|\"1206900240013\"|\"523802301151416\"|\"7730711011400\"|\"ESTREPTOQUINASE\"|\"1500000 UI P� LIOFILIZADO CT FR/AMP VD INC\"|\"99999-99-9\"|\"NC/NI\"|\"4\"|\"I\"|\"N\"|\"N\"|\"N\"|0|660\n",
      "\"04038750000103\"|\"LIBRA COMERCIO DE PRODUTOS FARMACEUTICOS LTDA\"|\"1206900080024\"|\"523802101152419\"|\"7730711011615\"|\"DOBUTAMINA\"|\"25 MG/ML SOL INJ CX C/ 1 AMP 20 ML\"|\"99999-99-9\"|\"NC/NI\"|\"4\"|\"I\"|\"N\"|\"N\"|\"N\"|0|25\n",
      "\"04038750000103\"|\"LIBRA COMERCIO DE PRODUTOS FARMACEUTICOS LTDA\"|\"SI/NC\"|\"523801401152416\"|\"SI/NC\"|\"CLARILIB\"|\"500MG PO LIOF 1 FA\"|\"99999-99-9\"|\"NC/NI\"|\"4\"|\"I\"|\"N\"|\"N\"|\"N\"|0|0\n",
      "\"04038750000103\"|\"LIBRA COMERCIO DE PRODUTOS FARMACEUTICOS LTDA\"|\"SI/NC\"|\"523802401156411\"|\"7730711011509\"|\"FLUMAZENIL\"|\"0,1 MG/ML SOL INJ CT 05 AMP X 5 ML\"|\"99999-99-9\"|\"NC/NI\"|\"1\"|\"I\"|\"N\"|\"N\"|\"N\"|0|141\n"
     ]
    }
   ],
   "source": [
    "# mostrar todas as linhas que contem a palavra LIBRA COMERCIO DE PRODUTOS FARMACEUTICOS LTDA\n",
    "for l in busca_palavra_LIBRA_COMERCIO_DE_PRODUTOS_FARMACEUTICOS_LTDA.takeSample(True,10):\n",
    "    print(l)"
   ]
  }
 ],
 "metadata": {
  "kernelspec": {
   "display_name": "Python 3",
   "language": "python",
   "name": "python3"
  },
  "language_info": {
   "codemirror_mode": {
    "name": "ipython",
    "version": 2
   },
   "file_extension": ".py",
   "mimetype": "text/x-python",
   "name": "python",
   "nbconvert_exporter": "python",
   "pygments_lexer": "ipython2",
   "version": "2.7.13"
  }
 },
 "nbformat": 4,
 "nbformat_minor": 2
}
