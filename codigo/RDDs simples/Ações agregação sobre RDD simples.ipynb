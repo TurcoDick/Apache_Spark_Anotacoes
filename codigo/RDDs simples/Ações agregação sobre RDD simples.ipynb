{
 "cells": [
  {
   "cell_type": "code",
   "execution_count": 1,
   "metadata": {
    "collapsed": true
   },
   "outputs": [],
   "source": [
    "# aqui serão apresentadas algumas funções mas na documentação oficial pode ser vistas todas\n",
    "# https://spark.apache.org/docs/2.2.0/rdd-programming-guide.html#rdd-persistence"
   ]
  },
  {
   "cell_type": "code",
   "execution_count": 21,
   "metadata": {
    "collapsed": true
   },
   "outputs": [],
   "source": [
    "# reduce() Agregue os elementos do conjunto de dados usando uma função func (que leva dois argumentos e retorna um).\n",
    "# A função deve ser comutativa e associativa para que possa ser calculada corretamente em paralelo."
   ]
  },
  {
   "cell_type": "code",
   "execution_count": 22,
   "metadata": {
    "collapsed": true
   },
   "outputs": [],
   "source": [
    "# Comutativa => a ordem dos fatores não altera o produtos. Ex; 2.3 = 6 e 3.2 = 6"
   ]
  },
  {
   "cell_type": "code",
   "execution_count": null,
   "metadata": {
    "collapsed": true
   },
   "outputs": [],
   "source": [
    "# Associativa => 2.5.4 = (2.4 = 8) . 5 = 40 ou (2.5 = 10) . 4 = 40 ou em qualquer outra ordem"
   ]
  },
  {
   "cell_type": "code",
   "execution_count": 1,
   "metadata": {
    "collapsed": true
   },
   "outputs": [],
   "source": [
    "rdd = sc.parallelize(xrange(1,11), 8) # range de 1 a 10 e 8 é o nº de paralelizações"
   ]
  },
  {
   "cell_type": "code",
   "execution_count": 2,
   "metadata": {},
   "outputs": [
    {
     "data": {
      "text/plain": [
       "[1, 2, 3, 4, 5, 6, 7, 8, 9, 10]"
      ]
     },
     "execution_count": 2,
     "metadata": {},
     "output_type": "execute_result"
    }
   ],
   "source": [
    "rdd.collect()"
   ]
  },
  {
   "cell_type": "code",
   "execution_count": 3,
   "metadata": {},
   "outputs": [
    {
     "name": "stdout",
     "output_type": "stream",
     "text": [
      "[[1], [2], [3], [4, 5], [6], [7], [8], [9, 10]]\n"
     ]
    }
   ],
   "source": [
    "print(rdd.glom().collect())"
   ]
  },
  {
   "cell_type": "code",
   "execution_count": 16,
   "metadata": {},
   "outputs": [
    {
     "name": "stdout",
     "output_type": "stream",
     "text": [
      "3628800\n"
     ]
    }
   ],
   "source": [
    "# recução com lambda\n",
    "p = rdd.reduce(lambda x,y : x*y) \n",
    "print(p)"
   ]
  },
  {
   "cell_type": "code",
   "execution_count": 17,
   "metadata": {},
   "outputs": [
    {
     "name": "stdout",
     "output_type": "stream",
     "text": [
      "1*2*3*4*5*6*7*8*9*10 = 3628800\n"
     ]
    }
   ],
   "source": [
    "print(\"1*2*3*4*5*6*7*8*9*10 = {0}\".format(p))"
   ]
  },
  {
   "cell_type": "code",
   "execution_count": 18,
   "metadata": {},
   "outputs": [
    {
     "name": "stdout",
     "output_type": "stream",
     "text": [
      "1+2+3+4+5+6+7+8+9+10 = 55\n"
     ]
    }
   ],
   "source": [
    "# Redução com um operador pré definido\n",
    "from operator import add\n",
    "s = rdd.reduce(add)\n",
    "print(\"1+2+3+4+5+6+7+8+9+10 = {0}\".format(s))"
   ]
  },
  {
   "cell_type": "code",
   "execution_count": 19,
   "metadata": {},
   "outputs": [
    {
     "name": "stdout",
     "output_type": "stream",
     "text": [
      "1-2-3-4-5-6-7-8-9-10 = 17\n"
     ]
    }
   ],
   "source": [
    "# teste com um operador não-comutativo\n",
    "p = rdd.reduce(lambda x,y :  x-y )\n",
    "print(\"1-2-3-4-5-6-7-8-9-10 = {0}\".format(p))"
   ]
  },
  {
   "cell_type": "code",
   "execution_count": 26,
   "metadata": {
    "collapsed": true
   },
   "outputs": [],
   "source": [
    "# fold\n",
    "# Agregue os elementos de cada partição e, em seguida, os resultados para todas as partições,\n",
    "# usando uma determinada função associativa e comutativa e um \"valor zero\" neutro."
   ]
  },
  {
   "cell_type": "code",
   "execution_count": 28,
   "metadata": {},
   "outputs": [
    {
     "name": "stdout",
     "output_type": "stream",
     "text": [
      "[[], [[1, 2, 3, 4]], [[-10, -9, -8, -7, -6, -5, -4]], [['a', 'b', 'c']]]\n"
     ]
    }
   ],
   "source": [
    "rddFold = sc.parallelize([range(1,5),range(-10, -3), ['a','b','c']])\n",
    "print(rddFold.glom().collect())"
   ]
  },
  {
   "cell_type": "code",
   "execution_count": 29,
   "metadata": {},
   "outputs": [
    {
     "name": "stdout",
     "output_type": "stream",
     "text": [
      "[1, 2, 3, 4, -10, -9, -8, -7, -6, -5, -4, 'a', 'b', 'c']\n"
     ]
    }
   ],
   "source": [
    "f = rddFold.fold([], lambda x,y: x+y)\n",
    "print(f)"
   ]
  },
  {
   "cell_type": "code",
   "execution_count": 31,
   "metadata": {},
   "outputs": [
    {
     "data": {
      "text/plain": [
       "0"
      ]
     },
     "execution_count": 31,
     "metadata": {},
     "output_type": "execute_result"
    }
   ],
   "source": [
    "#pode haver um fold vazio\n",
    "sc.parallelize([]).fold(0,add)"
   ]
  },
  {
   "cell_type": "code",
   "execution_count": 32,
   "metadata": {
    "collapsed": true
   },
   "outputs": [],
   "source": [
    "# aggregate"
   ]
  },
  {
   "cell_type": "code",
   "execution_count": 33,
   "metadata": {},
   "outputs": [
    {
     "name": "stdout",
     "output_type": "stream",
     "text": [
      "([1, 4, 9, 16, 25, 36, 49, 64], 40320.0, 8)\n"
     ]
    }
   ],
   "source": [
    "l = [1,2,3,4,5,6,7,8]\n",
    "rdd = sc.parallelize(l)\n",
    "\n",
    "# acc é uma tupla de 3 elementos (List, Double, Int)\n",
    "# No 1º elemento de acc (lista) nos concatenamos os elementos do RDD ao quadrado\n",
    "# No 2º elemento, acumulamos os elementos do RDD usando a multiplicação\n",
    "# E no terceiro, contamos os elemento do RDD\n",
    "\n",
    "seqOp = (lambda acc, val : (acc[0] + [val*val],\n",
    "                           acc[1]*val,\n",
    "                           acc[2]+1))\n",
    "combOp = (lambda acc1, acc2: (acc1[0] + acc2[0],\n",
    "                              acc1[1] * acc2[1],\n",
    "                              acc1[2] + acc2[2]))\n",
    "\n",
    "a = rdd.aggregate(([], 1.,0),seqOp, combOp)\n",
    "\n",
    "print(a)"
   ]
  }
 ],
 "metadata": {
  "kernelspec": {
   "display_name": "Python 3",
   "language": "python",
   "name": "python3"
  },
  "language_info": {
   "codemirror_mode": {
    "name": "ipython",
    "version": 2
   },
   "file_extension": ".py",
   "mimetype": "text/x-python",
   "name": "python",
   "nbconvert_exporter": "python",
   "pygments_lexer": "ipython2",
   "version": "2.7.13"
  }
 },
 "nbformat": 4,
 "nbformat_minor": 2
}
